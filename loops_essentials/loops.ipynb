{
 "cells": [
  {
   "cell_type": "markdown",
   "metadata": {},
   "source": [
    "##### Print 'hello world!' 10 times"
   ]
  },
  {
   "cell_type": "code",
   "execution_count": 9,
   "metadata": {},
   "outputs": [
    {
     "name": "stdout",
     "output_type": "stream",
     "text": [
      "hello world!\n",
      "0\n",
      "hello world!\n",
      "1\n",
      "hello world!\n",
      "2\n",
      "hello world!\n",
      "3\n",
      "hello world!\n",
      "4\n",
      "hello world!\n",
      "5\n",
      "hello world!\n",
      "6\n",
      "hello world!\n",
      "7\n",
      "hello world!\n",
      "8\n",
      "hello world!\n",
      "9\n"
     ]
    }
   ],
   "source": [
    "for i in range(10):\n",
    "    print('hello world!')\n",
    "    print(i)"
   ]
  },
  {
   "cell_type": "markdown",
   "metadata": {},
   "source": [
    "##### Print odd numbers 10 times"
   ]
  },
  {
   "cell_type": "code",
   "execution_count": 10,
   "metadata": {},
   "outputs": [
    {
     "name": "stdout",
     "output_type": "stream",
     "text": [
      "1\n",
      "3\n",
      "5\n",
      "7\n",
      "9\n"
     ]
    }
   ],
   "source": [
    "for i in range(10):\n",
    "    if i % 2 == 1:\n",
    "        print(i)\n",
    "    else:\n",
    "        pass"
   ]
  },
  {
   "cell_type": "markdown",
   "metadata": {},
   "source": [
    "##### Iterate through a list"
   ]
  },
  {
   "cell_type": "code",
   "execution_count": 12,
   "metadata": {},
   "outputs": [
    {
     "name": "stdout",
     "output_type": "stream",
     "text": [
      "milk\n",
      "black pepper\n",
      "toothpaste\n",
      "eggs\n",
      "toast\n",
      "avocados\n"
     ]
    }
   ],
   "source": [
    "grocery_list = ['milk', 'black pepper', 'toothpaste', 'eggs', 'toast', 'avocados']\n",
    "for items in grocery_list:\n",
    "    print(items)"
   ]
  },
  {
   "cell_type": "code",
   "execution_count": 13,
   "metadata": {},
   "outputs": [
    {
     "name": "stdout",
     "output_type": "stream",
     "text": [
      "208\n",
      "221\n",
      "195\n",
      "188\n",
      "178\n",
      "185\n",
      "188\n",
      "213\n",
      "181\n",
      "211\n",
      "190\n",
      "188\n",
      "210\n",
      "200\n",
      "208\n",
      "250\n",
      "174\n"
     ]
    }
   ],
   "source": [
    "weights = [208, 221, 195, 188, 178, 185, 188, 213, 181 ,211 ,190, 188, 210 , 200 , 208, 250, 174]\n",
    "for weight in weights:\n",
    "    print(weight)"
   ]
  }
 ],
 "metadata": {
  "interpreter": {
   "hash": "5ba173b049a33984e07fc21724363571335feab220ce92f9c3102f4b12a1a839"
  },
  "kernelspec": {
   "display_name": "Python 3.9.7 64-bit",
   "language": "python",
   "name": "python3"
  },
  "language_info": {
   "codemirror_mode": {
    "name": "ipython",
    "version": 3
   },
   "file_extension": ".py",
   "mimetype": "text/x-python",
   "name": "python",
   "nbconvert_exporter": "python",
   "pygments_lexer": "ipython3",
   "version": "3.9.7"
  },
  "orig_nbformat": 4
 },
 "nbformat": 4,
 "nbformat_minor": 2
}
