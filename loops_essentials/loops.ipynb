{
 "cells": [
  {
   "cell_type": "markdown",
   "metadata": {},
   "source": [
    "##### Print 'hello world!' 10 times"
   ]
  },
  {
   "cell_type": "code",
   "execution_count": 36,
   "metadata": {},
   "outputs": [
    {
     "name": "stdout",
     "output_type": "stream",
     "text": [
      "hello world!\n",
      "0\n",
      "hello world!\n",
      "1\n",
      "hello world!\n",
      "2\n",
      "hello world!\n",
      "3\n",
      "hello world!\n",
      "4\n",
      "hello world!\n",
      "5\n",
      "hello world!\n",
      "6\n",
      "hello world!\n",
      "7\n",
      "hello world!\n",
      "8\n",
      "hello world!\n",
      "9\n"
     ]
    }
   ],
   "source": [
    "for i in range(10):\n",
    "    print('hello world!')\n",
    "    print(i)"
   ]
  },
  {
   "cell_type": "markdown",
   "metadata": {},
   "source": [
    "##### Print odd numbers 10 times"
   ]
  },
  {
   "cell_type": "code",
   "execution_count": 37,
   "metadata": {},
   "outputs": [
    {
     "name": "stdout",
     "output_type": "stream",
     "text": [
      "1\n",
      "3\n",
      "5\n",
      "7\n",
      "9\n"
     ]
    }
   ],
   "source": [
    "for i in range(10):\n",
    "    if i % 2 == 1:\n",
    "        print(i)\n",
    "    else:\n",
    "        pass"
   ]
  },
  {
   "cell_type": "markdown",
   "metadata": {},
   "source": [
    "##### Iterate through a list"
   ]
  },
  {
   "cell_type": "code",
   "execution_count": 38,
   "metadata": {},
   "outputs": [
    {
     "name": "stdout",
     "output_type": "stream",
     "text": [
      "milk\n",
      "black pepper\n",
      "toothpaste\n",
      "eggs\n",
      "toast\n",
      "avocados\n"
     ]
    }
   ],
   "source": [
    "grocery_list = ['milk', 'black pepper', 'toothpaste', 'eggs', 'toast', 'avocados']\n",
    "for items in grocery_list:\n",
    "    print(items)"
   ]
  },
  {
   "cell_type": "markdown",
   "metadata": {},
   "source": [
    "#### Find the average weight of team players by actual value"
   ]
  },
  {
   "cell_type": "code",
   "execution_count": 39,
   "metadata": {},
   "outputs": [
    {
     "name": "stdout",
     "output_type": "stream",
     "text": [
      "199.2941176470588\n"
     ]
    }
   ],
   "source": [
    "weights = [208, 221, 195, 188, 178, 185, 188, 213, 181 ,211 ,190, 188, 210 , 200 , 208, 250, 174]\n",
    "total_weight = 0\n",
    "\n",
    "for weight in weights:\n",
    "    total_weight = total_weight + weight ## or, total_weight+= weight\n",
    "\n",
    "number_of_players = len(weights)\n",
    "average_weight = total_weight / number_of_players\n",
    "\n",
    "print(average_weight)"
   ]
  },
  {
   "cell_type": "markdown",
   "metadata": {},
   "source": [
    "##### Find the average weight of team players by index"
   ]
  },
  {
   "cell_type": "code",
   "execution_count": 40,
   "metadata": {},
   "outputs": [
    {
     "name": "stdout",
     "output_type": "stream",
     "text": [
      "199.2941176470588\n"
     ]
    }
   ],
   "source": [
    "weights = [208, 221, 195, 188, 178, 185, 188, 213, 181 ,211 ,190, 188, 210 , 200 , 208, 250, 174]\n",
    "total_weights = 0\n",
    "\n",
    "for index in range(len(weights)):\n",
    "    weight = weights[index]\n",
    "    total_weights += weight\n",
    "\n",
    "number_of_players = len(weights)\n",
    "average_weight = total_weight / number_of_players\n",
    "print(average_weight)"
   ]
  },
  {
   "cell_type": "markdown",
   "metadata": {},
   "source": [
    "#### Use enumerate to grab both index and weight"
   ]
  },
  {
   "cell_type": "code",
   "execution_count": 41,
   "metadata": {},
   "outputs": [
    {
     "name": "stdout",
     "output_type": "stream",
     "text": [
      "0\n",
      "208\n",
      "1\n",
      "221\n",
      "2\n",
      "195\n",
      "3\n",
      "188\n",
      "4\n",
      "178\n",
      "5\n",
      "185\n",
      "6\n",
      "188\n",
      "7\n",
      "213\n",
      "8\n",
      "181\n",
      "9\n",
      "211\n",
      "10\n",
      "190\n",
      "11\n",
      "188\n",
      "12\n",
      "210\n",
      "13\n",
      "200\n",
      "14\n",
      "208\n",
      "15\n",
      "250\n",
      "16\n",
      "174\n"
     ]
    }
   ],
   "source": [
    "weights = [208, 221, 195, 188, 178, 185, 188, 213, 181 ,211 ,190, 188, 210 , 200 , 208, 250, 174]\n",
    "\n",
    "for index,weight in enumerate(weights):\n",
    "    print(index)\n",
    "    print(weight)    "
   ]
  },
  {
   "cell_type": "markdown",
   "metadata": {},
   "source": [
    "##### While loop to print numbers less than 10"
   ]
  },
  {
   "cell_type": "code",
   "execution_count": 42,
   "metadata": {},
   "outputs": [
    {
     "name": "stdout",
     "output_type": "stream",
     "text": [
      "0\n",
      "1\n",
      "2\n",
      "3\n",
      "4\n",
      "5\n",
      "6\n",
      "7\n",
      "8\n",
      "9\n"
     ]
    }
   ],
   "source": [
    "i = 0\n",
    "while i < 10:\n",
    "    print(i)\n",
    "    i += 1 "
   ]
  },
  {
   "cell_type": "markdown",
   "metadata": {},
   "source": [
    "##### Make a game which will stop when game_over is true, use break statement"
   ]
  },
  {
   "cell_type": "code",
   "execution_count": 43,
   "metadata": {},
   "outputs": [
    {
     "name": "stdout",
     "output_type": "stream",
     "text": [
      "6\n",
      "Game is still on!\n",
      "10\n",
      "Game is still on!\n",
      "17\n",
      "Game is still on!\n",
      "26\n",
      "Game is still on!\n",
      "31\n",
      "Game is still on!\n",
      "35\n",
      "Game is still on!\n",
      "42\n",
      "Game is still on!\n",
      "45\n",
      "Game is still on!\n",
      "51\n",
      "Game is still on!\n",
      "58\n",
      "Game is still on!\n",
      "61\n",
      "Game is still on!\n",
      "70\n",
      "Game is still on!\n",
      "74\n",
      "Game is still on!\n",
      "81\n",
      "Game is still on!\n",
      "88\n",
      "Game is still on!\n",
      "98\n",
      "Game is still on!\n",
      "101\n",
      "You win!\n"
     ]
    }
   ],
   "source": [
    "import random\n",
    "\n",
    "game_over = False\n",
    "score = 0\n",
    "\n",
    "while not game_over:\n",
    "    score += random.randint(1,10)\n",
    "    print(score)\n",
    "\n",
    "    if score > 100:\n",
    "        game_over = True\n",
    "        break ## exits out of a while/for loop quickly\n",
    "\n",
    "    print('Game is still on!')\n",
    "\n",
    "print('You win!')\n",
    "    \n"
   ]
  },
  {
   "cell_type": "markdown",
   "metadata": {},
   "source": [
    "##### Make a game which will stop when game_over is true, use continue statement"
   ]
  },
  {
   "cell_type": "code",
   "execution_count": 44,
   "metadata": {},
   "outputs": [
    {
     "name": "stdout",
     "output_type": "stream",
     "text": [
      "3\n",
      "5\n",
      "12\n",
      "19\n",
      "26\n",
      "27\n",
      "36\n",
      "37\n",
      "38\n",
      "42\n",
      "52\n",
      "You are close to winning...\n",
      "61\n",
      "You are close to winning...\n",
      "63\n",
      "You are close to winning...\n",
      "66\n",
      "You are close to winning...\n",
      "68\n",
      "You are close to winning...\n",
      "69\n",
      "You are close to winning...\n",
      "71\n",
      "You are close to winning...\n",
      "72\n",
      "You are close to winning...\n",
      "74\n",
      "You are close to winning...\n",
      "78\n",
      "You are close to winning...\n",
      "88\n",
      "You are close to winning...\n",
      "91\n",
      "You are close to winning...\n",
      "96\n",
      "You are close to winning...\n",
      "106\n",
      "You win!\n"
     ]
    }
   ],
   "source": [
    "import random\n",
    "game_over = False\n",
    "score = 0\n",
    "\n",
    "while not game_over:\n",
    "    score += random.randint(1,10)\n",
    "    print(score)\n",
    "\n",
    "    if score < 50:\n",
    "        continue ## starts the loop again until the condition fullfills\n",
    "                 ## when the condition fullfills it skips over the next if condition\n",
    "    if score > 100:\n",
    "        game_over = True\n",
    "        break\n",
    "\n",
    "    print('You are close to winning...')\n",
    "\n",
    "print('You win!')"
   ]
  }
 ],
 "metadata": {
  "interpreter": {
   "hash": "5ba173b049a33984e07fc21724363571335feab220ce92f9c3102f4b12a1a839"
  },
  "kernelspec": {
   "display_name": "Python 3.9.7 64-bit",
   "language": "python",
   "name": "python3"
  },
  "language_info": {
   "codemirror_mode": {
    "name": "ipython",
    "version": 3
   },
   "file_extension": ".py",
   "mimetype": "text/x-python",
   "name": "python",
   "nbconvert_exporter": "python",
   "pygments_lexer": "ipython3",
   "version": "3.9.7"
  },
  "orig_nbformat": 4
 },
 "nbformat": 4,
 "nbformat_minor": 2
}
