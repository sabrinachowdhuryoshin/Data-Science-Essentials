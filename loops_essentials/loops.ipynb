{
 "cells": [
  {
   "cell_type": "markdown",
   "metadata": {},
   "source": [
    "##### Print 'hello world!' 10 times"
   ]
  },
  {
   "cell_type": "code",
   "execution_count": 21,
   "metadata": {},
   "outputs": [
    {
     "name": "stdout",
     "output_type": "stream",
     "text": [
      "hello world!\n",
      "0\n",
      "hello world!\n",
      "1\n",
      "hello world!\n",
      "2\n",
      "hello world!\n",
      "3\n",
      "hello world!\n",
      "4\n",
      "hello world!\n",
      "5\n",
      "hello world!\n",
      "6\n",
      "hello world!\n",
      "7\n",
      "hello world!\n",
      "8\n",
      "hello world!\n",
      "9\n"
     ]
    }
   ],
   "source": [
    "for i in range(10):\n",
    "    print('hello world!')\n",
    "    print(i)"
   ]
  },
  {
   "cell_type": "markdown",
   "metadata": {},
   "source": [
    "##### Print odd numbers 10 times"
   ]
  },
  {
   "cell_type": "code",
   "execution_count": 22,
   "metadata": {},
   "outputs": [
    {
     "name": "stdout",
     "output_type": "stream",
     "text": [
      "1\n",
      "3\n",
      "5\n",
      "7\n",
      "9\n"
     ]
    }
   ],
   "source": [
    "for i in range(10):\n",
    "    if i % 2 == 1:\n",
    "        print(i)\n",
    "    else:\n",
    "        pass"
   ]
  },
  {
   "cell_type": "markdown",
   "metadata": {},
   "source": [
    "##### Iterate through a list"
   ]
  },
  {
   "cell_type": "code",
   "execution_count": 23,
   "metadata": {},
   "outputs": [
    {
     "name": "stdout",
     "output_type": "stream",
     "text": [
      "milk\n",
      "black pepper\n",
      "toothpaste\n",
      "eggs\n",
      "toast\n",
      "avocados\n"
     ]
    }
   ],
   "source": [
    "grocery_list = ['milk', 'black pepper', 'toothpaste', 'eggs', 'toast', 'avocados']\n",
    "for items in grocery_list:\n",
    "    print(items)"
   ]
  },
  {
   "cell_type": "markdown",
   "metadata": {},
   "source": [
    "#### Find the average weight of team players by actual value"
   ]
  },
  {
   "cell_type": "code",
   "execution_count": 24,
   "metadata": {},
   "outputs": [
    {
     "name": "stdout",
     "output_type": "stream",
     "text": [
      "199.2941176470588\n"
     ]
    }
   ],
   "source": [
    "weights = [208, 221, 195, 188, 178, 185, 188, 213, 181 ,211 ,190, 188, 210 , 200 , 208, 250, 174]\n",
    "total_weight = 0\n",
    "\n",
    "for weight in weights:\n",
    "    total_weight = total_weight + weight ## or, total_weight+= weight\n",
    "\n",
    "number_of_players = len(weights)\n",
    "average_weight = total_weight / number_of_players\n",
    "\n",
    "print(average_weight)"
   ]
  },
  {
   "cell_type": "markdown",
   "metadata": {},
   "source": [
    "##### Find the average weight of team players by index"
   ]
  },
  {
   "cell_type": "code",
   "execution_count": 25,
   "metadata": {},
   "outputs": [
    {
     "name": "stdout",
     "output_type": "stream",
     "text": [
      "199.2941176470588\n"
     ]
    }
   ],
   "source": [
    "weights = [208, 221, 195, 188, 178, 185, 188, 213, 181 ,211 ,190, 188, 210 , 200 , 208, 250, 174]\n",
    "total_weights = 0\n",
    "\n",
    "for index in range(len(weights)):\n",
    "    weight = weights[index]\n",
    "    total_weights += weight\n",
    "\n",
    "number_of_players = len(weights)\n",
    "average_weight = total_weight / number_of_players\n",
    "print(average_weight)"
   ]
  },
  {
   "cell_type": "markdown",
   "metadata": {},
   "source": [
    "#### Use enumerate to grab both index and weight"
   ]
  },
  {
   "cell_type": "code",
   "execution_count": 26,
   "metadata": {},
   "outputs": [
    {
     "name": "stdout",
     "output_type": "stream",
     "text": [
      "0\n",
      "208\n",
      "1\n",
      "221\n",
      "2\n",
      "195\n",
      "3\n",
      "188\n",
      "4\n",
      "178\n",
      "5\n",
      "185\n",
      "6\n",
      "188\n",
      "7\n",
      "213\n",
      "8\n",
      "181\n",
      "9\n",
      "211\n",
      "10\n",
      "190\n",
      "11\n",
      "188\n",
      "12\n",
      "210\n",
      "13\n",
      "200\n",
      "14\n",
      "208\n",
      "15\n",
      "250\n",
      "16\n",
      "174\n"
     ]
    }
   ],
   "source": [
    "weights = [208, 221, 195, 188, 178, 185, 188, 213, 181 ,211 ,190, 188, 210 , 200 , 208, 250, 174]\n",
    "\n",
    "for index,weight in enumerate(weights):\n",
    "    print(index)\n",
    "    print(weight)    \n",
    "    weight_01 = weight[index]\n",
    "    weight_02 = weight[index+1]\n",
    "print(weight_01)\n",
    "print(weight_02)"
   ]
  }
 ],
 "metadata": {
  "interpreter": {
   "hash": "5ba173b049a33984e07fc21724363571335feab220ce92f9c3102f4b12a1a839"
  },
  "kernelspec": {
   "display_name": "Python 3.9.7 64-bit",
   "language": "python",
   "name": "python3"
  },
  "language_info": {
   "codemirror_mode": {
    "name": "ipython",
    "version": 3
   },
   "file_extension": ".py",
   "mimetype": "text/x-python",
   "name": "python",
   "nbconvert_exporter": "python",
   "pygments_lexer": "ipython3",
   "version": "3.9.7"
  },
  "orig_nbformat": 4
 },
 "nbformat": 4,
 "nbformat_minor": 2
}
