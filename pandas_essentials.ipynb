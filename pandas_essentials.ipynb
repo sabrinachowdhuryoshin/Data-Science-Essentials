{
 "cells": [
  {
   "cell_type": "markdown",
   "metadata": {},
   "source": [
    "1) Loading Data in Pandas"
   ]
  },
  {
   "cell_type": "code",
   "execution_count": 13,
   "metadata": {},
   "outputs": [
    {
     "name": "stdout",
     "output_type": "stream",
     "text": [
      "   #       Name Type 1  Type 2  HP  Attack  Defense  Sp. Atk  Sp. Def  Speed  \\\n",
      "0  1  Bulbasaur  Grass  Poison  45      49       49       65       65     45   \n",
      "1  2    Ivysaur  Grass  Poison  60      62       63       80       80     60   \n",
      "2  3   Venusaur  Grass  Poison  80      82       83      100      100     80   \n",
      "\n",
      "   Generation  Legendary  \n",
      "0           1      False  \n",
      "1           1      False  \n",
      "2           1      False  \n",
      "       #                 Name   Type 1 Type 2  HP  Attack  Defense  Sp. Atk  \\\n",
      "797  720  HoopaHoopa Confined  Psychic  Ghost  80     110       60      150   \n",
      "798  720   HoopaHoopa Unbound  Psychic   Dark  80     160       60      170   \n",
      "799  721            Volcanion     Fire  Water  80     110      120      130   \n",
      "\n",
      "     Sp. Def  Speed  Generation  Legendary  \n",
      "797      130     70           6       True  \n",
      "798      130     80           6       True  \n",
      "799       90     70           6       True  \n"
     ]
    }
   ],
   "source": [
    "import pandas as pd\n",
    "\n",
    "## Read csv file with the built-in function\n",
    "df = pd.read_csv('pokemon_data.csv')\n",
    "\n",
    "## Print the top 3 rows of the data\n",
    "print(df.head(3))\n",
    "\n",
    "## Print the bottom 3 rows of the data\n",
    "print(df.tail(3))"
   ]
  },
  {
   "cell_type": "code",
   "execution_count": 14,
   "metadata": {},
   "outputs": [
    {
     "name": "stdout",
     "output_type": "stream",
     "text": [
      "   #       Name Type 1  Type 2  HP  Attack  Defense  Sp. Atk  Sp. Def  Speed  \\\n",
      "0  1  Bulbasaur  Grass  Poison  45      49       49       65       65     45   \n",
      "1  2    Ivysaur  Grass  Poison  60      62       63       80       80     60   \n",
      "2  3   Venusaur  Grass  Poison  80      82       83      100      100     80   \n",
      "\n",
      "   Generation  Legendary  \n",
      "0           1      False  \n",
      "1           1      False  \n",
      "2           1      False  \n",
      "       #                 Name   Type 1 Type 2  HP  Attack  Defense  Sp. Atk  \\\n",
      "797  720  HoopaHoopa Confined  Psychic  Ghost  80     110       60      150   \n",
      "798  720   HoopaHoopa Unbound  Psychic   Dark  80     160       60      170   \n",
      "799  721            Volcanion     Fire  Water  80     110      120      130   \n",
      "\n",
      "     Sp. Def  Speed  Generation  Legendary  \n",
      "797      130     70           6       True  \n",
      "798      130     80           6       True  \n",
      "799       90     70           6       True  \n"
     ]
    }
   ],
   "source": [
    "## Read excel file with the built-in function\n",
    "df = pd.read_excel('pokemon_data.xlsx')\n",
    "\n",
    "## Print the top 3 rows of the data\n",
    "print(df.head(3))\n",
    "\n",
    "## Print the bottom 3 rows of the data\n",
    "print(df.tail(3))"
   ]
  },
  {
   "cell_type": "code",
   "execution_count": 15,
   "metadata": {},
   "outputs": [
    {
     "name": "stdout",
     "output_type": "stream",
     "text": [
      "   #       Name Type 1  Type 2  HP  Attack  Defense  Sp. Atk  Sp. Def  Speed  \\\n",
      "0  1  Bulbasaur  Grass  Poison  45      49       49       65       65     45   \n",
      "1  2    Ivysaur  Grass  Poison  60      62       63       80       80     60   \n",
      "2  3   Venusaur  Grass  Poison  80      82       83      100      100     80   \n",
      "\n",
      "   Generation  Legendary  \n",
      "0           1      False  \n",
      "1           1      False  \n",
      "2           1      False  \n",
      "       #                 Name   Type 1 Type 2  HP  Attack  Defense  Sp. Atk  \\\n",
      "797  720  HoopaHoopa Confined  Psychic  Ghost  80     110       60      150   \n",
      "798  720   HoopaHoopa Unbound  Psychic   Dark  80     160       60      170   \n",
      "799  721            Volcanion     Fire  Water  80     110      120      130   \n",
      "\n",
      "     Sp. Def  Speed  Generation  Legendary  \n",
      "797      130     70           6       True  \n",
      "798      130     80           6       True  \n",
      "799       90     70           6       True  \n"
     ]
    }
   ],
   "source": [
    "import pandas as pd\n",
    "\n",
    "## Read text file with the built-in function\n",
    "df = pd.read_csv('pokemon_data.txt', delimiter='\\t')\n",
    "\n",
    "## Print the top 3 rows of the data\n",
    "print(df.head(3))\n",
    "\n",
    "## Print the bottom 3 rows of the data\n",
    "print(df.tail(3))"
   ]
  },
  {
   "cell_type": "markdown",
   "metadata": {},
   "source": [
    "2) Reading Data in Pandas"
   ]
  },
  {
   "cell_type": "code",
   "execution_count": 20,
   "metadata": {},
   "outputs": [
    {
     "name": "stdout",
     "output_type": "stream",
     "text": [
      "Index(['#', 'Name', 'Type 1', 'Type 2', 'HP', 'Attack', 'Defense', 'Sp. Atk',\n",
      "       'Sp. Def', 'Speed', 'Generation', 'Legendary'],\n",
      "      dtype='object')\n"
     ]
    }
   ],
   "source": [
    "## Read headers\n",
    "\n",
    "print(df.columns)"
   ]
  },
  {
   "cell_type": "code",
   "execution_count": 21,
   "metadata": {},
   "outputs": [
    {
     "name": "stdout",
     "output_type": "stream",
     "text": [
      "0                Bulbasaur\n",
      "1                  Ivysaur\n",
      "2                 Venusaur\n",
      "3    VenusaurMega Venusaur\n",
      "4               Charmander\n",
      "Name: Name, dtype: object\n"
     ]
    }
   ],
   "source": [
    "## Read each column\n",
    "print (df['Name'][0:5]) # printing the top 5 rows of the column"
   ]
  },
  {
   "cell_type": "code",
   "execution_count": null,
   "metadata": {},
   "outputs": [],
   "source": [
    "## Read each row"
   ]
  }
 ],
 "metadata": {
  "interpreter": {
   "hash": "5ba173b049a33984e07fc21724363571335feab220ce92f9c3102f4b12a1a839"
  },
  "kernelspec": {
   "display_name": "Python 3.9.7 64-bit",
   "language": "python",
   "name": "python3"
  },
  "language_info": {
   "codemirror_mode": {
    "name": "ipython",
    "version": 3
   },
   "file_extension": ".py",
   "mimetype": "text/x-python",
   "name": "python",
   "nbconvert_exporter": "python",
   "pygments_lexer": "ipython3",
   "version": "3.9.7"
  },
  "orig_nbformat": 4
 },
 "nbformat": 4,
 "nbformat_minor": 2
}
