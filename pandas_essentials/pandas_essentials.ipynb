{
 "cells": [
  {
   "cell_type": "markdown",
   "metadata": {},
   "source": [
    "### 1. Loading Data in Pandas"
   ]
  },
  {
   "cell_type": "code",
   "execution_count": null,
   "metadata": {},
   "outputs": [],
   "source": [
    "import pandas as pd\n",
    "\n",
    "## read csv file with the built-in function\n",
    "df = pd.read_csv('pokemon_data.csv')\n",
    "\n",
    "## print the top 3 rows of the data\n",
    "print(df.head(3))\n",
    "\n",
    "## print the bottom 3 rows of the data\n",
    "print(df.tail(3))"
   ]
  },
  {
   "cell_type": "code",
   "execution_count": null,
   "metadata": {},
   "outputs": [],
   "source": [
    "## read excel file with the built-in function\n",
    "df = pd.read_excel('pokemon_data.xlsx')\n",
    "\n",
    "## print the top 3 rows of the data\n",
    "print(df.head(3))\n",
    "\n",
    "## print the bottom 3 rows of the data\n",
    "print(df.tail(3))"
   ]
  },
  {
   "cell_type": "code",
   "execution_count": null,
   "metadata": {},
   "outputs": [],
   "source": [
    "import pandas as pd\n",
    "\n",
    "## read text file with the built-in function\n",
    "df = pd.read_csv('pokemon_data.txt', delimiter='\\t')\n",
    "\n",
    "## print the top 3 rows of the data\n",
    "print(df.head(3))\n",
    "\n",
    "## print the bottom 3 rows of the data\n",
    "print(df.tail(3))"
   ]
  },
  {
   "cell_type": "markdown",
   "metadata": {},
   "source": [
    ">2. Reading Data in Pandas"
   ]
  },
  {
   "cell_type": "code",
   "execution_count": null,
   "metadata": {},
   "outputs": [],
   "source": [
    "## read headers\n",
    "\n",
    "print(df.columns)"
   ]
  },
  {
   "cell_type": "code",
   "execution_count": null,
   "metadata": {},
   "outputs": [],
   "source": [
    "## read each column\n",
    "\n",
    "## print the top 5 rows of the column\n",
    "print(df['Name'][0:5]) \n",
    "\n",
    "## print multiple columns\n",
    "print(df[['Name', 'Type 1', 'Attack']])\n"
   ]
  },
  {
   "cell_type": "code",
   "execution_count": null,
   "metadata": {},
   "outputs": [],
   "source": [
    "## read each row\n",
    "\n",
    "## print the first 4 rows\n",
    "print(df.head(4))\n",
    "\n",
    "## print the details of integer location \n",
    "print(df.iloc[1])\n",
    "\n",
    "## print the details of 0 to 4 rows \n",
    "print(df.iloc[0:4])\n"
   ]
  },
  {
   "cell_type": "code",
   "execution_count": null,
   "metadata": {},
   "outputs": [],
   "source": [
    "## read a specific location (row, column)\n",
    "\n",
    "## read the name 'Venusaur' from the 1st column and second row\n",
    "print (df.iloc[2,1])\n"
   ]
  },
  {
   "cell_type": "code",
   "execution_count": null,
   "metadata": {},
   "outputs": [],
   "source": [
    "## iterate through row by row\n",
    "\n",
    "for index, row in df.iterrows():\n",
    "    print(index,row)"
   ]
  },
  {
   "cell_type": "code",
   "execution_count": null,
   "metadata": {},
   "outputs": [],
   "source": [
    "## iterate through row by row for only the 'Name' column\n",
    "\n",
    "for index, row in df.iterrows():\n",
    "    print(index,row['Name'])"
   ]
  },
  {
   "cell_type": "code",
   "execution_count": null,
   "metadata": {},
   "outputs": [],
   "source": [
    "## read rows based on a particular cell value of a particular column\n",
    "\n",
    "df.loc[df['Type 1'] == \"Fire\"]"
   ]
  },
  {
   "cell_type": "markdown",
   "metadata": {},
   "source": [
    ">3. Sorting/Describing Data"
   ]
  },
  {
   "cell_type": "code",
   "execution_count": null,
   "metadata": {},
   "outputs": [],
   "source": [
    "## read the statistical description\n",
    "\n",
    "df.describe()"
   ]
  },
  {
   "cell_type": "code",
   "execution_count": null,
   "metadata": {},
   "outputs": [],
   "source": [
    "## sort the values alphabetically in ascending order\n",
    "\n",
    "df.sort_values('Name') # by default in ascending order\n"
   ]
  },
  {
   "cell_type": "code",
   "execution_count": null,
   "metadata": {},
   "outputs": [],
   "source": [
    "## sort the values alphabetically in descending order\n",
    "\n",
    "df.sort_values('Name', ascending=False)"
   ]
  },
  {
   "cell_type": "code",
   "execution_count": null,
   "metadata": {},
   "outputs": [],
   "source": [
    "## sort the values of 'HP' column alphabetically in descending order based on 'Type 1' column values \n",
    "\n",
    "df.sort_values(['Type 1', 'HP'], ascending=False)"
   ]
  },
  {
   "cell_type": "code",
   "execution_count": null,
   "metadata": {},
   "outputs": [],
   "source": [
    "## sort the values 'Type 1' column  in ascending and 'HP' in descending order\n",
    "\n",
    "df.sort_values(['Type 1', 'HP'], ascending=[1,0])"
   ]
  },
  {
   "cell_type": "markdown",
   "metadata": {},
   "source": [
    ">4. Make Changes to the Data"
   ]
  }
 ],
 "metadata": {
  "interpreter": {
   "hash": "5ba173b049a33984e07fc21724363571335feab220ce92f9c3102f4b12a1a839"
  },
  "kernelspec": {
   "display_name": "Python 3.9.7 64-bit",
   "language": "python",
   "name": "python3"
  },
  "language_info": {
   "codemirror_mode": {
    "name": "ipython",
    "version": 3
   },
   "file_extension": ".py",
   "mimetype": "text/x-python",
   "name": "python",
   "nbconvert_exporter": "python",
   "pygments_lexer": "ipython3",
   "version": "3.9.7"
  },
  "orig_nbformat": 4
 },
 "nbformat": 4,
 "nbformat_minor": 2
}
