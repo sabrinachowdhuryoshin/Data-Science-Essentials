{
 "cells": [
  {
   "cell_type": "markdown",
   "metadata": {},
   "source": [
    "### 1. Loading Data in Pandas"
   ]
  },
  {
   "cell_type": "code",
   "execution_count": null,
   "metadata": {},
   "outputs": [],
   "source": [
    "import pandas as pd\n",
    "\n",
    "## read csv file with the built-in function\n",
    "df = pd.read_csv('pokemon_data.csv')\n",
    "\n",
    "## print the top 3 rows of the data\n",
    "print(df.head(3))\n",
    "\n",
    "## print the bottom 3 rows of the data\n",
    "print(df.tail(3))"
   ]
  },
  {
   "cell_type": "code",
   "execution_count": null,
   "metadata": {},
   "outputs": [],
   "source": [
    "## read excel file with the built-in function\n",
    "df = pd.read_excel('pokemon_data.xlsx')\n",
    "\n",
    "## print the top 3 rows of the data\n",
    "print(df.head(3))\n",
    "\n",
    "## print the bottom 3 rows of the data\n",
    "print(df.tail(3))"
   ]
  },
  {
   "cell_type": "code",
   "execution_count": null,
   "metadata": {},
   "outputs": [],
   "source": [
    "import pandas as pd\n",
    "\n",
    "## read text file with the built-in function\n",
    "df = pd.read_csv('pokemon_data.txt', delimiter='\\t')\n",
    "\n",
    "## print the top 3 rows of the data\n",
    "print(df.head(3))\n",
    "\n",
    "## print the bottom 3 rows of the data\n",
    "print(df.tail(3))"
   ]
  },
  {
   "cell_type": "markdown",
   "metadata": {},
   "source": [
    "### 2. Reading Data in Pandas"
   ]
  },
  {
   "cell_type": "code",
   "execution_count": null,
   "metadata": {},
   "outputs": [],
   "source": [
    "## read headers\n",
    "\n",
    "print(df.columns)"
   ]
  },
  {
   "cell_type": "code",
   "execution_count": null,
   "metadata": {},
   "outputs": [],
   "source": [
    "## read each column\n",
    "\n",
    "## print the top 5 rows of the column\n",
    "print(df['Name'][0:5]) \n",
    "\n",
    "## print multiple columns\n",
    "print(df[['Name', 'Type 1', 'Attack']])\n"
   ]
  },
  {
   "cell_type": "code",
   "execution_count": null,
   "metadata": {},
   "outputs": [],
   "source": [
    "## read each row\n",
    "\n",
    "## print the first 4 rows\n",
    "print(df.head(4))\n",
    "\n",
    "## print the details of integer location \n",
    "print(df.iloc[1])\n",
    "\n",
    "## print the details of 0 to 4 rows \n",
    "print(df.iloc[0:4])\n"
   ]
  },
  {
   "cell_type": "code",
   "execution_count": null,
   "metadata": {},
   "outputs": [],
   "source": [
    "## read a specific location (row, column)\n",
    "\n",
    "## read the name 'Venusaur' from the 1st column and second row\n",
    "print (df.iloc[2,1])\n"
   ]
  },
  {
   "cell_type": "code",
   "execution_count": null,
   "metadata": {},
   "outputs": [],
   "source": [
    "## iterate through row by row\n",
    "\n",
    "for index, row in df.iterrows():\n",
    "    print(index,row)"
   ]
  },
  {
   "cell_type": "code",
   "execution_count": null,
   "metadata": {},
   "outputs": [],
   "source": [
    "## iterate through row by row for only the 'Name' column\n",
    "\n",
    "for index, row in df.iterrows():\n",
    "    print(index,row['Name'])"
   ]
  },
  {
   "cell_type": "code",
   "execution_count": null,
   "metadata": {},
   "outputs": [],
   "source": [
    "## read rows based on a particular cell value of a particular column\n",
    "\n",
    "df.loc[df['Type 1'] == \"Fire\"]"
   ]
  },
  {
   "cell_type": "markdown",
   "metadata": {},
   "source": [
    "### 3. Sorting/Describing Data"
   ]
  },
  {
   "cell_type": "code",
   "execution_count": null,
   "metadata": {},
   "outputs": [],
   "source": [
    "## read the statistical description\n",
    "\n",
    "df.describe()"
   ]
  },
  {
   "cell_type": "code",
   "execution_count": null,
   "metadata": {},
   "outputs": [],
   "source": [
    "## sort the values alphabetically in ascending order\n",
    "\n",
    "df.sort_values('Name') # by default in ascending order\n"
   ]
  },
  {
   "cell_type": "code",
   "execution_count": null,
   "metadata": {},
   "outputs": [],
   "source": [
    "## sort the values alphabetically in descending order\n",
    "\n",
    "df.sort_values('Name', ascending=False)"
   ]
  },
  {
   "cell_type": "code",
   "execution_count": null,
   "metadata": {},
   "outputs": [],
   "source": [
    "## sort the values of 'HP' column alphabetically in descending order based on 'Type 1' column values \n",
    "\n",
    "df.sort_values(['Type 1', 'HP'], ascending=False)"
   ]
  },
  {
   "cell_type": "code",
   "execution_count": null,
   "metadata": {},
   "outputs": [],
   "source": [
    "## sort the values 'Type 1' column  in ascending and 'HP' in descending order\n",
    "\n",
    "df.sort_values(['Type 1', 'HP'], ascending=[1,0])"
   ]
  },
  {
   "cell_type": "markdown",
   "metadata": {},
   "source": [
    "### 4. Make Changes to the Data"
   ]
  },
  {
   "cell_type": "code",
   "execution_count": null,
   "metadata": {},
   "outputs": [],
   "source": [
    "## sum the 1st row values of 'HP' to 'Generation' columns\n",
    "\n",
    "df['Total'] = df['HP'] + df['Attack'] + df['Defense'] + df['Sp. Atk'] + df['Sp. Def'] + df['Speed'] + df['Generation']\n",
    "\n",
    "df.head(4)"
   ]
  },
  {
   "cell_type": "code",
   "execution_count": null,
   "metadata": {},
   "outputs": [],
   "source": [
    "## drop the 'Total' column \n",
    "\n",
    "df = df.drop(columns =['Total'])\n",
    "\n",
    "df.head(4)"
   ]
  },
  {
   "cell_type": "code",
   "execution_count": null,
   "metadata": {},
   "outputs": [],
   "source": [
    "## sum the all the rows from 'HP' to 'Generation' (4th to 9th) columns\n",
    "\n",
    "# : means all the rows, 4:9 means 4th to 9th column\n",
    "# axis =1 means adding the column vertically, axis=0 means adding the column horizontally\n",
    "\n",
    "df['Total'] = df.iloc[:, 4:10].sum(axis=1)\n",
    " \n",
    "df.head(4) # debug\n"
   ]
  },
  {
   "cell_type": "code",
   "execution_count": null,
   "metadata": {},
   "outputs": [],
   "source": [
    "## get the list of all columns\n",
    "\n",
    "cols = list(df.columns)\n",
    "\n",
    "print(cols) # debug"
   ]
  },
  {
   "cell_type": "code",
   "execution_count": null,
   "metadata": {},
   "outputs": [],
   "source": [
    "## move the last two columns 'Legendary' and 'Total' after the 'Type 2' column\n",
    "\n",
    "df = df[cols[0:4] + [cols[-1]] + cols[4:12]]\n",
    "\n",
    "df.head(5)"
   ]
  },
  {
   "cell_type": "code",
   "execution_count": null,
   "metadata": {},
   "outputs": [],
   "source": [
    "## export the data into a modified csv file\n",
    "\n",
    "## index=False removes the index column from the data\n",
    "df.to_csv('Modified.csv', index=False)"
   ]
  },
  {
   "cell_type": "code",
   "execution_count": null,
   "metadata": {},
   "outputs": [],
   "source": [
    "## export the data into a modified excel file\n",
    "\n",
    "## index=False removes the index column from the data\n",
    "df.to_excel('Modified.xlsx', index=False)"
   ]
  },
  {
   "cell_type": "code",
   "execution_count": null,
   "metadata": {},
   "outputs": [],
   "source": [
    "## export the data into a modified text file\n",
    "\n",
    "## index=False removes the index column from the data\n",
    "df.to_csv('Modified.txt', index=False, sep='\\t')"
   ]
  },
  {
   "cell_type": "markdown",
   "metadata": {},
   "source": [
    "### 5. Filtering Data"
   ]
  },
  {
   "cell_type": "code",
   "execution_count": null,
   "metadata": {},
   "outputs": [],
   "source": [
    "## get the rows containing 'Grass' in 'Type 1' column\n",
    "\n",
    "df.loc[df['Type 1'] == 'Grass']\n"
   ]
  },
  {
   "cell_type": "code",
   "execution_count": null,
   "metadata": {},
   "outputs": [],
   "source": [
    "## get the rows containing 'Grass' in 'Type 1' column and 'Poison' in 'Type 2' column\n",
    "\n",
    "df.loc[(df['Type 1'] == 'Grass') & (df['Type 2'] == 'Poison')]"
   ]
  },
  {
   "cell_type": "code",
   "execution_count": null,
   "metadata": {},
   "outputs": [],
   "source": [
    "## get the rows containing 'Grass' in 'Type 1' column or 'Poison' in 'Type 2' column\n",
    "\n",
    "df.loc[(df['Type 1'] == 'Grass') | (df['Type 2'] == 'Poison')]"
   ]
  },
  {
   "cell_type": "code",
   "execution_count": null,
   "metadata": {},
   "outputs": [],
   "source": [
    "## get the rows containing 'Grass' in 'Type 1' column and 'Poison' in 'Type 2' column and values for 'HP' > 70\n",
    "\n",
    "df_filtered = df.loc[(df['Type 1'] == 'Grass') & (df['Type 2'] == 'Poison') & (df['HP'] > 70)]\n",
    "\n",
    "## reset the index, drop=True removes the old index column\n",
    "\n",
    "df_filtered = df_filtered.reset_index(drop=True) \n",
    "\n",
    "# export the filtered df with reset index in a new csv\n",
    "\n",
    "df_filtered.to_csv('Filtered.csv')"
   ]
  },
  {
   "cell_type": "code",
   "execution_count": null,
   "metadata": {},
   "outputs": [],
   "source": [
    "## filter all the rows containing 'Mega' strings from the 'Name' column\n",
    "\n",
    "df.loc[df['Name'].str.contains('Mega')]"
   ]
  },
  {
   "cell_type": "code",
   "execution_count": null,
   "metadata": {},
   "outputs": [],
   "source": [
    "## filter all the rows except 'Mega' strings from the 'Name' column\n",
    "\n",
    "df.loc[~df['Name'].str.contains('Mega')]"
   ]
  },
  {
   "cell_type": "code",
   "execution_count": null,
   "metadata": {},
   "outputs": [],
   "source": [
    "## check whether 'Type 1' column contains either 'Grass' or 'Fire'\n",
    "\n",
    "import re  # import rergular expression, re.I ignores the upper or lower case issues\n",
    "\n",
    "df.loc[df['Type 1'].str.contains('fire|grass', flags=re.I, regex=True)]"
   ]
  },
  {
   "cell_type": "code",
   "execution_count": null,
   "metadata": {},
   "outputs": [],
   "source": [
    "## check whether 'Name' column contains either any names starting from Pi (pikachu for example)\n",
    "## * means zero or more occurance of the regular expression\n",
    "## ^ means start of string or line (Pi has to be at the starting not in the middle)\n",
    "\n",
    "df.loc[df['Name'].str.contains('^pi[a-z]*', flags=re.I, regex=True)]"
   ]
  },
  {
   "cell_type": "markdown",
   "metadata": {},
   "source": [
    "### 6. Conditional Changes"
   ]
  },
  {
   "cell_type": "code",
   "execution_count": null,
   "metadata": {},
   "outputs": [],
   "source": [
    "## change the pokemon names 'Flamer' to 'Fire' in 'Type 1' column\n",
    "\n",
    "df.loc[df['Type 1'] == 'Flamer', 'Type 1'] = 'Fire'\n",
    "\n",
    "df"
   ]
  },
  {
   "cell_type": "code",
   "execution_count": null,
   "metadata": {},
   "outputs": [],
   "source": [
    "## change all the 'Fire' type pokemon to 'Legendary'\n",
    "\n",
    "df.loc[df['Type 1'] == 'Fire', 'Legendary'] = True\n",
    "\n",
    "df"
   ]
  },
  {
   "cell_type": "code",
   "execution_count": null,
   "metadata": {},
   "outputs": [],
   "source": [
    "## reload the 'modified.csv' data frame\n",
    "\n",
    "df = pd.read_csv('Modified.csv')\n",
    "\n",
    "df"
   ]
  },
  {
   "cell_type": "code",
   "execution_count": null,
   "metadata": {},
   "outputs": [],
   "source": [
    "## if the 'Total' is greter than 500 then the 'Generation' and 'Lenegendary' \n",
    "## columns will hold 'TEST VALUE' instead of the real values\n",
    "\n",
    "df.loc[df['Total'] > 500, ['Generation','Legendary']] = 'TEST VALUE'\n",
    "\n",
    "df"
   ]
  },
  {
   "cell_type": "code",
   "execution_count": null,
   "metadata": {},
   "outputs": [],
   "source": [
    "## if the 'Total' is greter than 500 then the 'Generation' and 'Lenegendary' \n",
    "## columns will hold 'TEST VALUE 1' and 'TEST VALUE 2' instead of the real values\n",
    "\n",
    "df.loc[df['Total'] > 500, ['Generation','Legendary']] = ['TEST VALUE 1', 'TEST VALUE 2']\n",
    "\n",
    "df"
   ]
  },
  {
   "cell_type": "markdown",
   "metadata": {},
   "source": [
    "### 7. Aggregate Statistics (Groupby)"
   ]
  },
  {
   "cell_type": "code",
   "execution_count": null,
   "metadata": {},
   "outputs": [],
   "source": [
    "## reload the 'modified.csv' data frame\n",
    "\n",
    "df = pd.read_csv('Modified.csv')\n",
    "\n",
    "df"
   ]
  },
  {
   "cell_type": "code",
   "execution_count": null,
   "metadata": {},
   "outputs": [],
   "source": [
    "## get the average of all 'Type 1' pokemons by groups\n",
    "## sort the values based on 'Defense' in descending order\n",
    "\n",
    "df.groupby(['Type 1']).mean().sort_values('Defense', ascending=False)\n",
    "\n",
    "## so, 'Steel' grouped pokemons have highest average of 'Defense' rate"
   ]
  },
  {
   "cell_type": "code",
   "execution_count": null,
   "metadata": {},
   "outputs": [],
   "source": [
    "## check which pokemons have the highest 'Attack' rate\n",
    "\n",
    "df.groupby(['Type 1']).mean().sort_values('Attack', ascending=False)\n",
    "\n",
    "## so, 'Dragon' grouped pokemons have highest average of 'Attack' rate"
   ]
  },
  {
   "cell_type": "code",
   "execution_count": null,
   "metadata": {},
   "outputs": [],
   "source": [
    "## add a 'Count' column in the dataframe\n",
    "\n",
    "df['Count'] = 1\n",
    "\n",
    "df"
   ]
  },
  {
   "cell_type": "code",
   "execution_count": null,
   "metadata": {},
   "outputs": [],
   "source": [
    "## check how many pokemons belong to each group in the 'Count' column\n",
    "\n",
    "df.groupby(['Type 1']).count()['Count']"
   ]
  },
  {
   "cell_type": "code",
   "execution_count": null,
   "metadata": {},
   "outputs": [],
   "source": [
    "## check how many pokemons belong to each group and sub-groups in the 'Count' column\n",
    "\n",
    "df.groupby(['Type 1', 'Type 2']).count()['Count']"
   ]
  },
  {
   "cell_type": "markdown",
   "metadata": {},
   "source": [
    "### 8. Working with Large Amounts of Data"
   ]
  },
  {
   "cell_type": "code",
   "execution_count": null,
   "metadata": {},
   "outputs": [],
   "source": [
    "## read data from 'Modified.csv' 5 rows at a time\n",
    "\n",
    "for df in pd.read_csv('Modified.csv', chunksize=5):\n",
    "    print(\"Chunk Data Frame:\")\n",
    "    print(df)\n"
   ]
  },
  {
   "cell_type": "code",
   "execution_count": null,
   "metadata": {},
   "outputs": [],
   "source": [
    "## create a new data frame containing the same column names as before\n",
    "\n",
    "new_df = df.DataFrame(columns=df.columns)\n",
    "\n",
    "## read data from 'Modified.csv' 5 rows at a time\n",
    "## and get the 'Type 1' grouped data and count  added to the new data frame in chunks\n",
    "## pd.concat() merges two dataframes\n",
    "\n",
    "for df in pd.read_csv('Modified.csv', chunksize=5):\n",
    "    results = df.groupby(['Type 1']).count()\n",
    "    new_df = pd.concat([new_df, results])\n",
    "    print(new_df)\n"
   ]
  }
 ],
 "metadata": {
  "interpreter": {
   "hash": "5ba173b049a33984e07fc21724363571335feab220ce92f9c3102f4b12a1a839"
  },
  "kernelspec": {
   "display_name": "Python 3.9.7 64-bit",
   "language": "python",
   "name": "python3"
  },
  "language_info": {
   "codemirror_mode": {
    "name": "ipython",
    "version": 3
   },
   "file_extension": ".py",
   "mimetype": "text/x-python",
   "name": "python",
   "nbconvert_exporter": "python",
   "pygments_lexer": "ipython3",
   "version": "3.9.7"
  },
  "orig_nbformat": 4
 },
 "nbformat": 4,
 "nbformat_minor": 2
}
