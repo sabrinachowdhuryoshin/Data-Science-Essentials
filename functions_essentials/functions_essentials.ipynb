{
 "cells": [
  {
   "cell_type": "markdown",
   "metadata": {},
   "source": [
    "###### Write a set of conditional statements to find whether or not a number is a 'special' number. Special numbers are defined as numbers less than 100 or greater than or equal to 300. That are perfectly divisible by 3,7, or both.\n"
   ]
  },
  {
   "cell_type": "code",
   "execution_count": 13,
   "metadata": {},
   "outputs": [
    {
     "name": "stdout",
     "output_type": "stream",
     "text": [
      "Not a special number\n"
     ]
    }
   ],
   "source": [
    "number = 123\n",
    "\n",
    "if (number < 100 or number >= 300) and (number % 3 == 0 or number % 7 == 0):\n",
    "    if (number % 3 == 0 and number % 7 ==0):\n",
    "        print ('Divisible by both')\n",
    "else:\n",
    "    print('Not a special number')"
   ]
  }
 ],
 "metadata": {
  "interpreter": {
   "hash": "5ba173b049a33984e07fc21724363571335feab220ce92f9c3102f4b12a1a839"
  },
  "kernelspec": {
   "display_name": "Python 3.9.7 64-bit",
   "language": "python",
   "name": "python3"
  },
  "language_info": {
   "codemirror_mode": {
    "name": "ipython",
    "version": 3
   },
   "file_extension": ".py",
   "mimetype": "text/x-python",
   "name": "python",
   "nbconvert_exporter": "python",
   "pygments_lexer": "ipython3",
   "version": "3.9.7"
  },
  "orig_nbformat": 4
 },
 "nbformat": 4,
 "nbformat_minor": 2
}
